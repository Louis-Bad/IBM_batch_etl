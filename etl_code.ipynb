{
 "cells": [
  {
   "cell_type": "markdown",
   "id": "5f2f5580-fa44-461b-bc12-9939ce3f124b",
   "metadata": {
    "tags": []
   },
   "source": [
    "# Overview"
   ]
  },
  {
   "cell_type": "markdown",
   "id": "9a24f9c6-2e1b-4624-8a7a-9c92208e3149",
   "metadata": {},
   "source": [
    "The below script will extract data from multiple sources and file types (csv, json, xml) before performing a simple cleaning tasks and finally outputting a single csv file. The csv output file will be a collation of all the data ingested, post the simple cleaning transformation. <br>\n",
    "Of course, this was just a fun evening project and the code has not been designed for any kind of commercial application.\n",
    "<br><br>\n",
    "The data is a very simple dataset comprising of a handful of people and a log of their names, height and weight. In the data file holding each of the datasets exists a three duplicates of the same data. Again, the data itself is not important, more so that I had a simple collection of multiple sources of data to play around with. "
   ]
  },
  {
   "cell_type": "markdown",
   "id": "581b3248-ccca-4cda-98b3-9d0a3b47bc23",
   "metadata": {
    "tags": []
   },
   "source": [
    "# Set Up"
   ]
  },
  {
   "cell_type": "code",
   "execution_count": 1,
   "id": "2a8c661b-7e18-4bab-8a01-7fece69f1d57",
   "metadata": {},
   "outputs": [],
   "source": [
    "import glob\n",
    "import pandas as pd\n",
    "import xml.etree.ElementTree as ET\n",
    "from datetime import datetime"
   ]
  },
  {
   "cell_type": "markdown",
   "id": "d2674442-f2e7-4ee4-b319-d44d9aac8c4a",
   "metadata": {},
   "source": [
    "# Building The Functions"
   ]
  },
  {
   "cell_type": "code",
   "execution_count": 33,
   "id": "03ab48a0-8afc-47fe-8d43-8e14516a4e93",
   "metadata": {},
   "outputs": [],
   "source": [
    "# Function to read in a csv file\n",
    "'''\n",
    "This function will read in a csv file and output a pandas dataframe object\n",
    "Input: file path\n",
    "Output: pandas object\n",
    "Params: file_to_process\n",
    "'''\n",
    "def extract_from_csv(file_to_process): \n",
    "    dataframe = pd.read_csv(file_to_process) \n",
    "    return dataframe\n",
    "\n",
    "\n",
    "\n",
    "\n",
    "\n",
    "# Function to read in multiple csv files\n",
    "'''\n",
    "This function will read in a list of csv files and output a pandas dataframe object\n",
    "Input: iterable list of file paths\n",
    "Output: pandas object\n",
    "Params: path_list\n",
    "'''\n",
    "def multiple_csv(path_list):\n",
    "    df_list = []\n",
    "    for path in path_list:\n",
    "        dataframe = extract_from_csv(path)\n",
    "        df_list.append(dataframe)\n",
    "        \n",
    "    return pd.concat(df_list, ignore_index=True)\n"
   ]
  },
  {
   "cell_type": "code",
   "execution_count": 34,
   "id": "d9971556-1dd1-48dc-9061-14a141aeb1c2",
   "metadata": {},
   "outputs": [],
   "source": [
    "# Function to read in a json file\n",
    "'''\n",
    "This function will read in a csv file and output a pandas dataframe object\n",
    "Input: file path\n",
    "Output: pandas object\n",
    "Params: file_to_process\n",
    "'''\n",
    "def extract_from_json(file_to_process): \n",
    "    dataframe = pd.read_json(file_to_process, lines=True) \n",
    "    return dataframe \n",
    "\n",
    "\n",
    "\n",
    "\n",
    "\n",
    "# Function to read in multiple json files\n",
    "'''\n",
    "This function will read in a list of json files and output a pandas dataframe object\n",
    "Input: iterable list of file paths\n",
    "Output: pandas object\n",
    "Params: path_list\n",
    "'''\n",
    "def multiple_json(path_list):\n",
    "    df_list = []\n",
    "    for path in path_list:\n",
    "        dataframe = extract_from_json(path)\n",
    "        df_list.append(dataframe)\n",
    "        \n",
    "    return pd.concat(df_list, ignore_index=True)"
   ]
  },
  {
   "cell_type": "code",
   "execution_count": 35,
   "id": "3e6075e7-80fc-4e0b-8bb5-7a207c5a3712",
   "metadata": {},
   "outputs": [],
   "source": [
    "# Function to read in an xml file\n",
    "'''\n",
    "This function will read in a csv file and output a pandas dataframe object. This assumes a very specific xml tree schema and is not broadly\n",
    "applicable to any other xml schemas. \n",
    "Input: file path\n",
    "Output: pandas object\n",
    "Params: file_to_process\n",
    "'''\n",
    "def extract_from_xml(file_to_process):\n",
    "    # Create an empty dataframe \n",
    "    dataframe = pd.DataFrame(columns = ['Name', 'Height', 'Weight'])\n",
    "    \n",
    "    # Create tree object and acess the root element\n",
    "    tree = ET.parse(file_to_process)\n",
    "    root_element = tree.getroot()\n",
    "    \n",
    "    # Iterate through each child of the root element (in this case this is an individual person)\n",
    "    for child in root_element:\n",
    "        # Accessing name, height and weight of each person\n",
    "        name = child.find('name').text\n",
    "        height = child.find('height').text\n",
    "        weight = child.find('weight').text\n",
    "        \n",
    "        # Appending new row of data to existing dataframe\n",
    "        dataframe.loc[len(dataframe), :] = [name, height, weight]\n",
    "    \n",
    "    return dataframe\n",
    "    \n",
    "    \n",
    "\n",
    "\n",
    "\n",
    "# Function to read in multiple xml files\n",
    "'''\n",
    "This function will read in a list of xml files and output a pandas dataframe object\n",
    "Input: iterable list of file paths\n",
    "Output: pandas object\n",
    "Params: path_list\n",
    "'''\n",
    "def multiple_xml(path_list):\n",
    "    df_list = []\n",
    "    for path in path_list:\n",
    "        dataframe = extract_from_xml(path)\n",
    "        df_list.append(dataframe)\n",
    "        \n",
    "    return pd.concat(df_list, ignore_index=True)"
   ]
  },
  {
   "cell_type": "code",
   "execution_count": null,
   "id": "46b67818-337e-4b58-8113-7b126445559a",
   "metadata": {},
   "outputs": [],
   "source": []
  },
  {
   "cell_type": "code",
   "execution_count": null,
   "id": "9e797d23-475a-40ca-a57a-e3d2eae20ae7",
   "metadata": {},
   "outputs": [],
   "source": []
  },
  {
   "cell_type": "code",
   "execution_count": null,
   "id": "e44736eb-b408-461d-ac8b-703f5be44e88",
   "metadata": {},
   "outputs": [],
   "source": []
  },
  {
   "cell_type": "code",
   "execution_count": null,
   "id": "4b263412-0b4e-4c95-8589-eba17e64bdfc",
   "metadata": {},
   "outputs": [],
   "source": []
  },
  {
   "cell_type": "code",
   "execution_count": null,
   "id": "011f31d7-1168-4228-8d40-443819696be9",
   "metadata": {},
   "outputs": [],
   "source": []
  },
  {
   "cell_type": "code",
   "execution_count": null,
   "id": "f1ae0e75-099a-4774-929e-beb94e970707",
   "metadata": {},
   "outputs": [],
   "source": [
    "# Function to batch ingest multiple files"
   ]
  },
  {
   "cell_type": "code",
   "execution_count": null,
   "id": "43d59281-3b53-45b8-bf2d-8db4743509a9",
   "metadata": {},
   "outputs": [],
   "source": []
  },
  {
   "cell_type": "code",
   "execution_count": null,
   "id": "c5bd4a76-f97f-4d5e-9d6a-450a3f1c7240",
   "metadata": {},
   "outputs": [],
   "source": []
  },
  {
   "cell_type": "code",
   "execution_count": null,
   "id": "dba6f4d8-2e57-4a1c-9f28-8661664a228e",
   "metadata": {},
   "outputs": [],
   "source": []
  },
  {
   "cell_type": "code",
   "execution_count": null,
   "id": "6ac4720b-2017-4641-a696-952c8b15be51",
   "metadata": {},
   "outputs": [],
   "source": []
  },
  {
   "cell_type": "code",
   "execution_count": null,
   "id": "68573e5f-660d-4b8b-bc08-e63898febbdb",
   "metadata": {},
   "outputs": [],
   "source": []
  },
  {
   "cell_type": "code",
   "execution_count": null,
   "id": "35c2c9d2-9876-4fef-8961-b760cb337b58",
   "metadata": {},
   "outputs": [],
   "source": []
  },
  {
   "cell_type": "code",
   "execution_count": null,
   "id": "140aaa21-6a6f-40be-90cd-f5130c058aab",
   "metadata": {},
   "outputs": [],
   "source": []
  },
  {
   "cell_type": "markdown",
   "id": "5150c400-4cc5-4273-8dc2-d484ebc1b2cd",
   "metadata": {
    "jp-MarkdownHeadingCollapsed": true,
    "tags": []
   },
   "source": [
    "# Final Script"
   ]
  },
  {
   "cell_type": "code",
   "execution_count": null,
   "id": "0f2a65b1-f117-4cad-80fc-9f4be450da80",
   "metadata": {},
   "outputs": [],
   "source": []
  },
  {
   "cell_type": "code",
   "execution_count": null,
   "id": "0865f869-9974-42cc-992b-e4e75666875f",
   "metadata": {},
   "outputs": [],
   "source": []
  }
 ],
 "metadata": {
  "kernelspec": {
   "display_name": "Python 3 (ipykernel)",
   "language": "python",
   "name": "python3"
  },
  "language_info": {
   "codemirror_mode": {
    "name": "ipython",
    "version": 3
   },
   "file_extension": ".py",
   "mimetype": "text/x-python",
   "name": "python",
   "nbconvert_exporter": "python",
   "pygments_lexer": "ipython3",
   "version": "3.9.12"
  }
 },
 "nbformat": 4,
 "nbformat_minor": 5
}
